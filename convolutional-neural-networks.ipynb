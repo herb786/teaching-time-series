{
 "cells": [
  {
   "cell_type": "code",
   "execution_count": 1,
   "metadata": {},
   "outputs": [
    {
     "name": "stderr",
     "output_type": "stream",
     "text": [
      "Using TensorFlow backend.\n"
     ]
    }
   ],
   "source": [
    "import os\n",
    "import sys\n",
    "import pandas as pd\n",
    "import numpy as np\n",
    "from matplotlib import pyplot as plt\n",
    "import datetime\n",
    "from sklearn.preprocessing import MinMaxScaler\n",
    "import keras.layers as klayers\n",
    "import keras.models as kmodel\n",
    "import keras.callbacks as kcallbacks"
   ]
  },
  {
   "cell_type": "code",
   "execution_count": 2,
   "metadata": {},
   "outputs": [],
   "source": [
    "df = pd.read_csv('datasets/PRSA_data_2010.1.1-2014.12.31.csv')\n",
    "df['datetime'] = df[['year', 'month', 'day', 'hour']].apply(lambda row: datetime.datetime( \n",
    "    year=row['year'], month=row['month'], day=row['day'], hour=row['hour']), axis=1)\n",
    "df.sort_values('datetime', ascending=True, inplace=True)"
   ]
  },
  {
   "cell_type": "code",
   "execution_count": 3,
   "metadata": {},
   "outputs": [],
   "source": [
    "scaler = MinMaxScaler(feature_range=(0, 1))\n",
    "df['scaled_PRES'] = scaler.fit_transform(np.array(df['PRES']).reshape(-1, 1))"
   ]
  },
  {
   "cell_type": "code",
   "execution_count": 4,
   "metadata": {},
   "outputs": [],
   "source": [
    "split_date = datetime.datetime(year=2014, month=1, day=1, hour=0)\n",
    "df_train = df.loc[df['datetime']<split_date]\n",
    "df_val = df.loc[df['datetime']>=split_date]\n",
    "df_val.reset_index(drop=True, inplace=True)"
   ]
  },
  {
   "cell_type": "code",
   "execution_count": 5,
   "metadata": {},
   "outputs": [],
   "source": [
    "def makeXy(ts, nb_timesteps):\n",
    "    \"\"\"\n",
    "    Input:\n",
    "        s: original time series\n",
    "        nb_timesteps: number of time steps in the regressors\n",
    "    Output:\n",
    "        X: 2-D array of regressors\n",
    "        y: 1-D array of target\n",
    "    \"\"\"\n",
    "    X = []\n",
    "    y = []\n",
    "    for i in range(nb_timesteps, ts.shape[0]):\n",
    "        piece = ts.loc[i-nb_timesteps:i-1]\n",
    "        X.append(list(piece))\n",
    "        y.append(ts.loc[i])\n",
    "    X, y = np.array(X), np.array(y)\n",
    "    return X, y"
   ]
  },
  {
   "cell_type": "code",
   "execution_count": 6,
   "metadata": {},
   "outputs": [],
   "source": [
    "X_train, y_train = makeXy(df_train['scaled_PRES'], 7)\n",
    "X_val, y_val = makeXy(df_val['scaled_PRES'], 7)\n",
    "X_train = X_train.reshape((X_train.shape[0], X_train.shape[1], 1))\n",
    "X_val = X_val.reshape((X_val.shape[0], X_val.shape[1], 1))"
   ]
  },
  {
   "cell_type": "code",
   "execution_count": 8,
   "metadata": {},
   "outputs": [
    {
     "name": "stdout",
     "output_type": "stream",
     "text": [
      "WARNING:tensorflow:From /usr/local/lib/python3.7/site-packages/keras/backend/tensorflow_backend.py:3445: calling dropout (from tensorflow.python.ops.nn_ops) with keep_prob is deprecated and will be removed in a future version.\n",
      "Instructions for updating:\n",
      "Please use `rate` instead of `keep_prob`. Rate should be set to `rate = 1 - keep_prob`.\n"
     ]
    }
   ],
   "source": [
    "input_layer = klayers.Input(shape=(7,1), dtype='float32')\n",
    "zeropadding_layer = klayers.convolutional.ZeroPadding1D(padding=1)(input_layer)\n",
    "conv1D_layer = klayers.convolutional.Conv1D(64, 3, strides=1, use_bias=True)(zeropadding_layer)\n",
    "avgpooling_layer = klayers.pooling.AveragePooling1D(pool_size=3, strides=1)(conv1D_layer)\n",
    "flatten_layer = klayers.Flatten()(avgpooling_layer)\n",
    "dropout_layer = klayers.Dropout(0.2)(flatten_layer)\n",
    "output_layer = klayers.Dense(1, activation='linear')(dropout_layer)"
   ]
  },
  {
   "cell_type": "code",
   "execution_count": 9,
   "metadata": {},
   "outputs": [
    {
     "name": "stdout",
     "output_type": "stream",
     "text": [
      "_________________________________________________________________\n",
      "Layer (type)                 Output Shape              Param #   \n",
      "=================================================================\n",
      "input_2 (InputLayer)         (None, 7, 1)              0         \n",
      "_________________________________________________________________\n",
      "zero_padding1d_2 (ZeroPaddin (None, 9, 1)              0         \n",
      "_________________________________________________________________\n",
      "conv1d_2 (Conv1D)            (None, 7, 64)             256       \n",
      "_________________________________________________________________\n",
      "average_pooling1d_2 (Average (None, 5, 64)             0         \n",
      "_________________________________________________________________\n",
      "flatten_1 (Flatten)          (None, 320)               0         \n",
      "_________________________________________________________________\n",
      "dropout_1 (Dropout)          (None, 320)               0         \n",
      "_________________________________________________________________\n",
      "dense_1 (Dense)              (None, 1)                 321       \n",
      "=================================================================\n",
      "Total params: 577\n",
      "Trainable params: 577\n",
      "Non-trainable params: 0\n",
      "_________________________________________________________________\n"
     ]
    }
   ],
   "source": [
    "ts_model = kmodel.Model(inputs=input_layer, outputs=output_layer)\n",
    "ts_model.compile(loss='mean_absolute_error', optimizer='adam')\n",
    "ts_model.summary()"
   ]
  },
  {
   "cell_type": "code",
   "execution_count": 10,
   "metadata": {},
   "outputs": [
    {
     "name": "stdout",
     "output_type": "stream",
     "text": [
      "WARNING:tensorflow:From /usr/local/lib/python3.7/site-packages/tensorflow/python/ops/math_ops.py:3066: to_int32 (from tensorflow.python.ops.math_ops) is deprecated and will be removed in a future version.\n",
      "Instructions for updating:\n",
      "Use tf.cast instead.\n",
      "Train on 35057 samples, validate on 8753 samples\n",
      "Epoch 1/20\n",
      "35057/35057 [==============================] - 4s 102us/step - loss: 0.0285 - val_loss: 0.0341\n",
      "Epoch 2/20\n",
      "35057/35057 [==============================] - 3s 91us/step - loss: 0.0175 - val_loss: 0.0113\n",
      "Epoch 3/20\n",
      "35057/35057 [==============================] - 4s 103us/step - loss: 0.0158 - val_loss: 0.0102\n",
      "Epoch 4/20\n",
      "35057/35057 [==============================] - 4s 100us/step - loss: 0.0144 - val_loss: 0.0097\n",
      "Epoch 5/20\n",
      "35057/35057 [==============================] - 3s 95us/step - loss: 0.0142 - val_loss: 0.0145\n",
      "Epoch 6/20\n",
      "35057/35057 [==============================] - 3s 99us/step - loss: 0.0137 - val_loss: 0.0109\n",
      "Epoch 7/20\n",
      "35057/35057 [==============================] - 4s 103us/step - loss: 0.0138 - val_loss: 0.0138\n",
      "Epoch 8/20\n",
      "35057/35057 [==============================] - 3s 92us/step - loss: 0.0135 - val_loss: 0.0108\n",
      "Epoch 9/20\n",
      "35057/35057 [==============================] - 3s 88us/step - loss: 0.0135 - val_loss: 0.0145\n",
      "Epoch 10/20\n",
      "35057/35057 [==============================] - 3s 90us/step - loss: 0.0135 - val_loss: 0.0101\n",
      "Epoch 11/20\n",
      "35057/35057 [==============================] - 3s 90us/step - loss: 0.0133 - val_loss: 0.0113\n",
      "Epoch 12/20\n",
      "35057/35057 [==============================] - 3s 95us/step - loss: 0.0134 - val_loss: 0.0109\n",
      "Epoch 13/20\n",
      "35057/35057 [==============================] - 3s 93us/step - loss: 0.0133 - val_loss: 0.0118\n",
      "Epoch 14/20\n",
      "35057/35057 [==============================] - 4s 106us/step - loss: 0.0131 - val_loss: 0.0155\n",
      "Epoch 15/20\n",
      "35057/35057 [==============================] - 4s 109us/step - loss: 0.0135 - val_loss: 0.0115\n",
      "Epoch 16/20\n",
      "35057/35057 [==============================] - 3s 98us/step - loss: 0.0131 - val_loss: 0.0112\n",
      "Epoch 17/20\n",
      "35057/35057 [==============================] - 3s 83us/step - loss: 0.0130 - val_loss: 0.0105\n",
      "Epoch 18/20\n",
      "35057/35057 [==============================] - 4s 105us/step - loss: 0.0131 - val_loss: 0.0098\n",
      "Epoch 19/20\n",
      "35057/35057 [==============================] - 3s 97us/step - loss: 0.0129 - val_loss: 0.0097\n",
      "Epoch 20/20\n",
      "35057/35057 [==============================] - 4s 102us/step - loss: 0.0130 - val_loss: 0.0101\n"
     ]
    },
    {
     "data": {
      "text/plain": [
       "<keras.callbacks.History at 0x10a989198>"
      ]
     },
     "execution_count": 10,
     "metadata": {},
     "output_type": "execute_result"
    }
   ],
   "source": [
    "save_weights_at = os.path.join('keras_models', 'PRSA_data_Air_Pressure_1DConv_weights.{epoch:02d}-{val_loss:.4f}.hdf5')\n",
    "save_best = kcallbacks.ModelCheckpoint(save_weights_at, monitor='val_loss', verbose=0,\n",
    "                            save_best_only=True, save_weights_only=False, mode='min',\n",
    "                            period=1)\n",
    "ts_model.fit(x=X_train, y=y_train, batch_size=16, epochs=20,\n",
    "             verbose=1, callbacks=[save_best], validation_data=(X_val, y_val),\n",
    "             shuffle=True)"
   ]
  },
  {
   "cell_type": "code",
   "execution_count": 11,
   "metadata": {},
   "outputs": [],
   "source": [
    "best_model = kmodel.load_model(os.path.join('keras_models','PRSA_data_Air_Pressure_1DConv_weights.04-0.0097.hdf5'))\n",
    "preds = best_model.predict(X_val)\n",
    "pred_PRES = scaler.inverse_transform(preds)\n",
    "pred_PRES = np.squeeze(pred_PRES)"
   ]
  },
  {
   "cell_type": "code",
   "execution_count": 12,
   "metadata": {},
   "outputs": [
    {
     "data": {
      "text/plain": [
       "Text(0.5, 0, 'Index')"
      ]
     },
     "execution_count": 12,
     "metadata": {},
     "output_type": "execute_result"
    },
    {
     "data": {
      "image/png": "[encoded data removed]",
      "text/plain": [
       "<Figure size 396x396 with 1 Axes>"
      ]
     },
     "metadata": {
      "needs_background": "light"
     },
     "output_type": "display_data"
    }
   ],
   "source": [
    "plt.figure(figsize=(5.5, 5.5))\n",
    "plt.plot(range(50), df_val['PRES'].iloc[7:57], linestyle='-', marker='*', color='r')\n",
    "plt.plot(range(50), pred_PRES[:50], linestyle='-', marker='.', color='b')\n",
    "plt.legend(['Actual','Predicted'], loc=2)\n",
    "plt.title('1D Convolutional Neural Network (CNN)')\n",
    "plt.ylabel('Air Pressure')\n",
    "plt.xlabel('Index')"
   ]
  },
  {
   "cell_type": "code",
   "execution_count": null,
   "metadata": {},
   "outputs": [],
   "source": []
  }
 ],
 "metadata": {
  "kernelspec": {
   "display_name": "Python 3",
   "language": "python",
   "name": "python3"
  },
  "language_info": {
   "codemirror_mode": {
    "name": "ipython",
    "version": 3
   },
   "file_extension": ".py",
   "mimetype": "text/x-python",
   "name": "python",
   "nbconvert_exporter": "python",
   "pygments_lexer": "ipython3",
   "version": "3.7.2"
  }
 },
 "nbformat": 4,
 "nbformat_minor": 2
}
