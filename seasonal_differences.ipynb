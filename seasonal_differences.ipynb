{
 "cells": [
  {
   "cell_type": "code",
   "execution_count": 42,
   "metadata": {},
   "outputs": [],
   "source": [
    "import os\n",
    "import numpy as np\n",
    "import pandas as pd\n",
    "from matplotlib import pyplot as plt\n",
    "import seaborn as sns\n",
    "import statsmodels.tsa.stattools as stattools\n",
    "import statsmodels.graphics.tsaplots as tsaplots\n",
    "from pandas.plotting import autocorrelation_plot"
   ]
  },
  {
   "cell_type": "code",
   "execution_count": 23,
   "metadata": {},
   "outputs": [
    {
     "data": {
      "text/html": [
       "<div>\n",
       "<style scoped>\n",
       "    .dataframe tbody tr th:only-of-type {\n",
       "        vertical-align: middle;\n",
       "    }\n",
       "\n",
       "    .dataframe tbody tr th {\n",
       "        vertical-align: top;\n",
       "    }\n",
       "\n",
       "    .dataframe thead th {\n",
       "        text-align: right;\n",
       "    }\n",
       "</style>\n",
       "<table border=\"1\" class=\"dataframe\">\n",
       "  <thead>\n",
       "    <tr style=\"text-align: right;\">\n",
       "      <th></th>\n",
       "      <th>Month_Year</th>\n",
       "      <th>mean</th>\n",
       "      <th>Year</th>\n",
       "      <th>Month</th>\n",
       "    </tr>\n",
       "  </thead>\n",
       "  <tbody>\n",
       "    <tr>\n",
       "      <th>0</th>\n",
       "      <td>01-1988</td>\n",
       "      <td>-22.137097</td>\n",
       "      <td>1988</td>\n",
       "      <td>01</td>\n",
       "    </tr>\n",
       "    <tr>\n",
       "      <th>4</th>\n",
       "      <td>02-1988</td>\n",
       "      <td>-19.025862</td>\n",
       "      <td>1988</td>\n",
       "      <td>02</td>\n",
       "    </tr>\n",
       "    <tr>\n",
       "      <th>8</th>\n",
       "      <td>03-1988</td>\n",
       "      <td>-8.258065</td>\n",
       "      <td>1988</td>\n",
       "      <td>03</td>\n",
       "    </tr>\n",
       "    <tr>\n",
       "      <th>12</th>\n",
       "      <td>04-1988</td>\n",
       "      <td>2.641667</td>\n",
       "      <td>1988</td>\n",
       "      <td>04</td>\n",
       "    </tr>\n",
       "    <tr>\n",
       "      <th>16</th>\n",
       "      <td>05-1988</td>\n",
       "      <td>11.290323</td>\n",
       "      <td>1988</td>\n",
       "      <td>05</td>\n",
       "    </tr>\n",
       "    <tr>\n",
       "      <th>20</th>\n",
       "      <td>06-1988</td>\n",
       "      <td>19.291667</td>\n",
       "      <td>1988</td>\n",
       "      <td>06</td>\n",
       "    </tr>\n",
       "    <tr>\n",
       "      <th>24</th>\n",
       "      <td>07-1988</td>\n",
       "      <td>19.048387</td>\n",
       "      <td>1988</td>\n",
       "      <td>07</td>\n",
       "    </tr>\n",
       "    <tr>\n",
       "      <th>28</th>\n",
       "      <td>08-1988</td>\n",
       "      <td>17.379032</td>\n",
       "      <td>1988</td>\n",
       "      <td>08</td>\n",
       "    </tr>\n",
       "    <tr>\n",
       "      <th>32</th>\n",
       "      <td>09-1988</td>\n",
       "      <td>10.675000</td>\n",
       "      <td>1988</td>\n",
       "      <td>09</td>\n",
       "    </tr>\n",
       "    <tr>\n",
       "      <th>36</th>\n",
       "      <td>10-1988</td>\n",
       "      <td>2.467742</td>\n",
       "      <td>1988</td>\n",
       "      <td>10</td>\n",
       "    </tr>\n",
       "    <tr>\n",
       "      <th>40</th>\n",
       "      <td>11-1988</td>\n",
       "      <td>-5.433333</td>\n",
       "      <td>1988</td>\n",
       "      <td>11</td>\n",
       "    </tr>\n",
       "    <tr>\n",
       "      <th>44</th>\n",
       "      <td>12-1988</td>\n",
       "      <td>-14.846774</td>\n",
       "      <td>1988</td>\n",
       "      <td>12</td>\n",
       "    </tr>\n",
       "    <tr>\n",
       "      <th>1</th>\n",
       "      <td>01-1989</td>\n",
       "      <td>-17.129032</td>\n",
       "      <td>1989</td>\n",
       "      <td>01</td>\n",
       "    </tr>\n",
       "    <tr>\n",
       "      <th>5</th>\n",
       "      <td>02-1989</td>\n",
       "      <td>-19.267857</td>\n",
       "      <td>1989</td>\n",
       "      <td>02</td>\n",
       "    </tr>\n",
       "    <tr>\n",
       "      <th>9</th>\n",
       "      <td>03-1989</td>\n",
       "      <td>-12.508065</td>\n",
       "      <td>1989</td>\n",
       "      <td>03</td>\n",
       "    </tr>\n",
       "    <tr>\n",
       "      <th>13</th>\n",
       "      <td>04-1989</td>\n",
       "      <td>1.158333</td>\n",
       "      <td>1989</td>\n",
       "      <td>04</td>\n",
       "    </tr>\n",
       "    <tr>\n",
       "      <th>17</th>\n",
       "      <td>05-1989</td>\n",
       "      <td>11.483871</td>\n",
       "      <td>1989</td>\n",
       "      <td>05</td>\n",
       "    </tr>\n",
       "    <tr>\n",
       "      <th>21</th>\n",
       "      <td>06-1989</td>\n",
       "      <td>14.675000</td>\n",
       "      <td>1989</td>\n",
       "      <td>06</td>\n",
       "    </tr>\n",
       "    <tr>\n",
       "      <th>25</th>\n",
       "      <td>07-1989</td>\n",
       "      <td>20.661290</td>\n",
       "      <td>1989</td>\n",
       "      <td>07</td>\n",
       "    </tr>\n",
       "    <tr>\n",
       "      <th>29</th>\n",
       "      <td>08-1989</td>\n",
       "      <td>17.201613</td>\n",
       "      <td>1989</td>\n",
       "      <td>08</td>\n",
       "    </tr>\n",
       "  </tbody>\n",
       "</table>\n",
       "</div>"
      ],
      "text/plain": [
       "   Month_Year       mean  Year Month\n",
       "0     01-1988 -22.137097  1988    01\n",
       "4     02-1988 -19.025862  1988    02\n",
       "8     03-1988  -8.258065  1988    03\n",
       "12    04-1988   2.641667  1988    04\n",
       "16    05-1988  11.290323  1988    05\n",
       "20    06-1988  19.291667  1988    06\n",
       "24    07-1988  19.048387  1988    07\n",
       "28    08-1988  17.379032  1988    08\n",
       "32    09-1988  10.675000  1988    09\n",
       "36    10-1988   2.467742  1988    10\n",
       "40    11-1988  -5.433333  1988    11\n",
       "44    12-1988 -14.846774  1988    12\n",
       "1     01-1989 -17.129032  1989    01\n",
       "5     02-1989 -19.267857  1989    02\n",
       "9     03-1989 -12.508065  1989    03\n",
       "13    04-1989   1.158333  1989    04\n",
       "17    05-1989  11.483871  1989    05\n",
       "21    06-1989  14.675000  1989    06\n",
       "25    07-1989  20.661290  1989    07\n",
       "29    08-1989  17.201613  1989    08"
      ]
     },
     "execution_count": 23,
     "metadata": {},
     "output_type": "execute_result"
    }
   ],
   "source": [
    "df = pd.read_csv('datasets/mean-daily-temperature-fisher-river.csv')\n",
    "df.index = df['Date'].map(lambda t: pd.to_datetime(t, format='%Y-%m-%d %H:%M:%S'))\n",
    "df['Month_Year'] = df.index.map(lambda d: d.strftime('%m-%Y'))\n",
    "sdf = df.groupby(by='Month_Year')['Mean temparature'].aggregate([np.mean])\n",
    "sdf.reset_index(inplace=True)\n",
    "sdf['Year'] = sdf['Month_Year'].map(lambda m: pd.to_datetime(m, format='%m-%Y').strftime('%Y'))\n",
    "sdf['Month'] = sdf['Month_Year'].map(lambda m: pd.to_datetime(m, format='%m-%Y').strftime('%m'))\n",
    "sdf.sort_values(by=['Year', 'Month'], inplace=True)\n",
    "sdf.head(20)"
   ]
  },
  {
   "cell_type": "code",
   "execution_count": 32,
   "metadata": {},
   "outputs": [],
   "source": [
    "monthly_mean_temp = sdf['mean']\n",
    "monthly_mean_temp.index = sdf['Month_Year']"
   ]
  },
  {
   "cell_type": "code",
   "execution_count": 33,
   "metadata": {},
   "outputs": [
    {
     "data": {
      "text/plain": [
       "Month_Year\n",
       "01-1988         NaN\n",
       "02-1988         NaN\n",
       "03-1988         NaN\n",
       "04-1988         NaN\n",
       "05-1988         NaN\n",
       "06-1988         NaN\n",
       "07-1988         NaN\n",
       "08-1988         NaN\n",
       "09-1988         NaN\n",
       "10-1988         NaN\n",
       "11-1988         NaN\n",
       "12-1988         NaN\n",
       "01-1989    5.008065\n",
       "02-1989   -0.241995\n",
       "03-1989   -4.250000\n",
       "04-1989   -1.483333\n",
       "05-1989    0.193548\n",
       "06-1989   -4.616667\n",
       "07-1989    1.612903\n",
       "08-1989   -0.177419\n",
       "Name: mean, dtype: float64"
      ]
     },
     "execution_count": 33,
     "metadata": {},
     "output_type": "execute_result"
    }
   ],
   "source": [
    "seasonal_diff = monthly_mean_temp.diff(12)\n",
    "seasonal_diff.head(20)"
   ]
  },
  {
   "cell_type": "code",
   "execution_count": 34,
   "metadata": {},
   "outputs": [
    {
     "data": {
      "text/plain": [
       "<matplotlib.axes._subplots.AxesSubplot at 0x11ea401d0>"
      ]
     },
     "execution_count": 34,
     "metadata": {},
     "output_type": "execute_result"
    },
    {
     "data": {
      "image/png": "[encoded data removed]",
      "text/plain": [
       "<Figure size 360x360 with 1 Axes>"
      ]
     },
     "metadata": {
      "needs_background": "light"
     },
     "output_type": "display_data"
    }
   ],
   "source": [
    "seasonal_diff = seasonal_diff[12:]\n",
    "plt.figure(figsize=(5,5))\n",
    "seasonal_diff.plot()"
   ]
  },
  {
   "cell_type": "code",
   "execution_count": 35,
   "metadata": {},
   "outputs": [
    {
     "data": {
      "image/png": "[encoded data removed]",
      "text/plain": [
       "<Figure size 432x288 with 1 Axes>"
      ]
     },
     "execution_count": 35,
     "metadata": {},
     "output_type": "execute_result"
    },
    {
     "data": {
      "image/png": "[encoded data removed]",
      "text/plain": [
       "<Figure size 432x288 with 1 Axes>"
      ]
     },
     "metadata": {
      "needs_background": "light"
     },
     "output_type": "display_data"
    }
   ],
   "source": [
    "tsaplots.plot_acf(seasonal_diff)"
   ]
  },
  {
   "cell_type": "code",
   "execution_count": 37,
   "metadata": {},
   "outputs": [
    {
     "data": {
      "text/plain": [
       "<matplotlib.axes._subplots.AxesSubplot at 0x12128e828>"
      ]
     },
     "execution_count": 37,
     "metadata": {},
     "output_type": "execute_result"
    },
    {
     "data": {
      "image/png": "[encoded data removed]",
      "text/plain": [
       "<Figure size 432x288 with 1 Axes>"
      ]
     },
     "metadata": {
      "needs_background": "light"
     },
     "output_type": "display_data"
    }
   ],
   "source": [
    "autocorrelation_plot(seasonal_diff)"
   ]
  },
  {
   "cell_type": "code",
   "execution_count": 43,
   "metadata": {},
   "outputs": [
    {
     "name": "stdout",
     "output_type": "stream",
     "text": [
      "Null hypothesis is rejected for lags: (array([0, 1, 2, 3, 4, 5, 6, 7, 8, 9]),)\n"
     ]
    }
   ],
   "source": [
    "_, _, _, pval_monthly_mean = stattools.acf(monthly_mean_temp, unbiased=True, nlags=10, qstat=True, alpha=0.05)\n",
    "print('Null hypothesis is rejected for lags:', np.where(pval_monthly_mean<=0.05))"
   ]
  },
  {
   "cell_type": "code",
   "execution_count": 44,
   "metadata": {},
   "outputs": [
    {
     "name": "stdout",
     "output_type": "stream",
     "text": [
      "Null hypothesis is rejected for lags: (array([], dtype=int64),)\n"
     ]
    }
   ],
   "source": [
    "# Ljung-Box test\n",
    "_, _, _, pval_seasonal_diff = stattools.acf(seasonal_diff, unbiased=True, nlags=10, qstat=True, alpha=0.05)\n",
    "print('Null hypothesis is rejected for lags:', np.where(pval_seasonal_diff<=0.05))"
   ]
  },
  {
   "cell_type": "code",
   "execution_count": null,
   "metadata": {},
   "outputs": [],
   "source": []
  }
 ],
 "metadata": {
  "kernelspec": {
   "display_name": "Python 3",
   "language": "python",
   "name": "python3"
  },
  "language_info": {
   "codemirror_mode": {
    "name": "ipython",
    "version": 3
   },
   "file_extension": ".py",
   "mimetype": "text/x-python",
   "name": "python",
   "nbconvert_exporter": "python",
   "pygments_lexer": "ipython3",
   "version": "3.7.2"
  }
 },
 "nbformat": 4,
 "nbformat_minor": 2
}
