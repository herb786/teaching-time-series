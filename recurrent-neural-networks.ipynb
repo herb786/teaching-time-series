{
 "cells": [
  {
   "cell_type": "code",
   "execution_count": 1,
   "metadata": {},
   "outputs": [
    {
     "name": "stderr",
     "output_type": "stream",
     "text": [
      "Using TensorFlow backend.\n"
     ]
    }
   ],
   "source": [
    "import os\n",
    "import sys\n",
    "import pandas as pd\n",
    "import numpy as np\n",
    "from matplotlib import pyplot as plt\n",
    "import seaborn as sns\n",
    "import datetime\n",
    "from sklearn.preprocessing import MinMaxScaler\n",
    "from sklearn.metrics import r2_score\n",
    "import keras.layers as klayers\n",
    "import keras.models as kmodel\n",
    "import keras.callbacks as kcallbacks\n",
    "import keras.optimizers as koptimizers"
   ]
  },
  {
   "cell_type": "code",
   "execution_count": 2,
   "metadata": {},
   "outputs": [
    {
     "data": {
      "text/html": [
       "<div>\n",
       "<style scoped>\n",
       "    .dataframe tbody tr th:only-of-type {\n",
       "        vertical-align: middle;\n",
       "    }\n",
       "\n",
       "    .dataframe tbody tr th {\n",
       "        vertical-align: top;\n",
       "    }\n",
       "\n",
       "    .dataframe thead th {\n",
       "        text-align: right;\n",
       "    }\n",
       "</style>\n",
       "<table border=\"1\" class=\"dataframe\">\n",
       "  <thead>\n",
       "    <tr style=\"text-align: right;\">\n",
       "      <th></th>\n",
       "      <th>No</th>\n",
       "      <th>year</th>\n",
       "      <th>month</th>\n",
       "      <th>day</th>\n",
       "      <th>hour</th>\n",
       "      <th>pm2.5</th>\n",
       "      <th>DEWP</th>\n",
       "      <th>TEMP</th>\n",
       "      <th>PRES</th>\n",
       "      <th>cbwd</th>\n",
       "      <th>Iws</th>\n",
       "      <th>Is</th>\n",
       "      <th>Ir</th>\n",
       "    </tr>\n",
       "  </thead>\n",
       "  <tbody>\n",
       "    <tr>\n",
       "      <th>0</th>\n",
       "      <td>1</td>\n",
       "      <td>2010</td>\n",
       "      <td>1</td>\n",
       "      <td>1</td>\n",
       "      <td>0</td>\n",
       "      <td>NaN</td>\n",
       "      <td>-21</td>\n",
       "      <td>-11.0</td>\n",
       "      <td>1021.0</td>\n",
       "      <td>NW</td>\n",
       "      <td>1.79</td>\n",
       "      <td>0</td>\n",
       "      <td>0</td>\n",
       "    </tr>\n",
       "    <tr>\n",
       "      <th>1</th>\n",
       "      <td>2</td>\n",
       "      <td>2010</td>\n",
       "      <td>1</td>\n",
       "      <td>1</td>\n",
       "      <td>1</td>\n",
       "      <td>NaN</td>\n",
       "      <td>-21</td>\n",
       "      <td>-12.0</td>\n",
       "      <td>1020.0</td>\n",
       "      <td>NW</td>\n",
       "      <td>4.92</td>\n",
       "      <td>0</td>\n",
       "      <td>0</td>\n",
       "    </tr>\n",
       "    <tr>\n",
       "      <th>2</th>\n",
       "      <td>3</td>\n",
       "      <td>2010</td>\n",
       "      <td>1</td>\n",
       "      <td>1</td>\n",
       "      <td>2</td>\n",
       "      <td>NaN</td>\n",
       "      <td>-21</td>\n",
       "      <td>-11.0</td>\n",
       "      <td>1019.0</td>\n",
       "      <td>NW</td>\n",
       "      <td>6.71</td>\n",
       "      <td>0</td>\n",
       "      <td>0</td>\n",
       "    </tr>\n",
       "    <tr>\n",
       "      <th>3</th>\n",
       "      <td>4</td>\n",
       "      <td>2010</td>\n",
       "      <td>1</td>\n",
       "      <td>1</td>\n",
       "      <td>3</td>\n",
       "      <td>NaN</td>\n",
       "      <td>-21</td>\n",
       "      <td>-14.0</td>\n",
       "      <td>1019.0</td>\n",
       "      <td>NW</td>\n",
       "      <td>9.84</td>\n",
       "      <td>0</td>\n",
       "      <td>0</td>\n",
       "    </tr>\n",
       "    <tr>\n",
       "      <th>4</th>\n",
       "      <td>5</td>\n",
       "      <td>2010</td>\n",
       "      <td>1</td>\n",
       "      <td>1</td>\n",
       "      <td>4</td>\n",
       "      <td>NaN</td>\n",
       "      <td>-20</td>\n",
       "      <td>-12.0</td>\n",
       "      <td>1018.0</td>\n",
       "      <td>NW</td>\n",
       "      <td>12.97</td>\n",
       "      <td>0</td>\n",
       "      <td>0</td>\n",
       "    </tr>\n",
       "  </tbody>\n",
       "</table>\n",
       "</div>"
      ],
      "text/plain": [
       "   No  year  month  day  hour  pm2.5  DEWP  TEMP    PRES cbwd    Iws  Is  Ir\n",
       "0   1  2010      1    1     0    NaN   -21 -11.0  1021.0   NW   1.79   0   0\n",
       "1   2  2010      1    1     1    NaN   -21 -12.0  1020.0   NW   4.92   0   0\n",
       "2   3  2010      1    1     2    NaN   -21 -11.0  1019.0   NW   6.71   0   0\n",
       "3   4  2010      1    1     3    NaN   -21 -14.0  1019.0   NW   9.84   0   0\n",
       "4   5  2010      1    1     4    NaN   -20 -12.0  1018.0   NW  12.97   0   0"
      ]
     },
     "execution_count": 2,
     "metadata": {},
     "output_type": "execute_result"
    }
   ],
   "source": [
    "df = pd.read_csv('datasets/PRSA_data_2010.1.1-2014.12.31.csv')\n",
    "df.head(5)"
   ]
  },
  {
   "cell_type": "code",
   "execution_count": 3,
   "metadata": {},
   "outputs": [],
   "source": [
    "df['datetime'] = df[['year', 'month', 'day', 'hour']].apply(lambda row: datetime.datetime( \n",
    "    year=row['year'], month=row['month'], day=row['day'], hour=row['hour']), axis=1)\n",
    "df.sort_values('datetime', ascending=True, inplace=True)"
   ]
  },
  {
   "cell_type": "code",
   "execution_count": 4,
   "metadata": {},
   "outputs": [],
   "source": [
    "scaler = MinMaxScaler(feature_range=(0, 1))\n",
    "df['scaled_PRES'] = scaler.fit_transform(np.array(df['PRES']).reshape(-1, 1))"
   ]
  },
  {
   "cell_type": "code",
   "execution_count": 5,
   "metadata": {},
   "outputs": [
    {
     "name": "stdout",
     "output_type": "stream",
     "text": [
      "Shape of train: (35064, 15)\n",
      "Shape of test: (8760, 15)\n"
     ]
    }
   ],
   "source": [
    "split_date = datetime.datetime(year=2014, month=1, day=1, hour=0)\n",
    "df_train = df.loc[df['datetime']<split_date]\n",
    "df_val = df.loc[df['datetime']>=split_date]\n",
    "print('Shape of train:', df_train.shape)\n",
    "print('Shape of test:', df_val.shape)"
   ]
  },
  {
   "cell_type": "code",
   "execution_count": 17,
   "metadata": {},
   "outputs": [],
   "source": [
    "df_val.reset_index(drop=True, inplace=True)"
   ]
  },
  {
   "cell_type": "code",
   "execution_count": 19,
   "metadata": {},
   "outputs": [],
   "source": [
    "def makeXy(ts, nb_timesteps):\n",
    "    \"\"\"\n",
    "    Input:\n",
    "        s: original time series\n",
    "        nb_timesteps: number of time steps in the regressors\n",
    "    Output:\n",
    "        X: 2-D array of regressors\n",
    "        y: 1-D array of target\n",
    "    \"\"\"\n",
    "    X = []\n",
    "    y = []\n",
    "    for i in range(nb_timesteps, ts.shape[0]):\n",
    "        piece = ts.loc[i-nb_timesteps:i-1]\n",
    "        X.append(list(piece))\n",
    "        y.append(ts.loc[i])\n",
    "    X, y = np.array(X), np.array(y)\n",
    "    return X, y"
   ]
  },
  {
   "cell_type": "code",
   "execution_count": 20,
   "metadata": {},
   "outputs": [
    {
     "name": "stdout",
     "output_type": "stream",
     "text": [
      "Shape of train arrays: (35057, 7) (35057,)\n",
      "Shape of validation arrays: (8753, 7) (8753,)\n"
     ]
    }
   ],
   "source": [
    "X_train, y_train = makeXy(df_train['scaled_PRES'], 7)\n",
    "print('Shape of train arrays:', X_train.shape, y_train.shape)\n",
    "X_val, y_val = makeXy(df_val['scaled_PRES'], 7)\n",
    "print('Shape of validation arrays:', X_val.shape, y_val.shape)"
   ]
  },
  {
   "cell_type": "code",
   "execution_count": 21,
   "metadata": {},
   "outputs": [
    {
     "name": "stdout",
     "output_type": "stream",
     "text": [
      "Shape of 3D arrays: (35057, 7, 1) (8753, 7, 1)\n"
     ]
    }
   ],
   "source": [
    "X_train = X_train.reshape((X_train.shape[0], X_train.shape[1], 1))\n",
    "X_val = X_val.reshape((X_val.shape[0], X_val.shape[1], 1))\n",
    "print('Shape of 3D arrays:', X_train.shape, X_val.shape)"
   ]
  },
  {
   "cell_type": "code",
   "execution_count": 22,
   "metadata": {},
   "outputs": [],
   "source": [
    "input_layer = klayers.Input(shape=(7,1), dtype='float32')\n",
    "lstm_layer = klayers.recurrent.LSTM(64, input_shape=(7,1),\n",
    "return_sequences=False)(input_layer)"
   ]
  },
  {
   "cell_type": "code",
   "execution_count": 23,
   "metadata": {},
   "outputs": [],
   "source": [
    "dropout_layer = klayers.Dropout(0.2)(lstm_layer)\n",
    "output_layer = klayers.Dense(1, activation='linear')(dropout_layer)"
   ]
  },
  {
   "cell_type": "code",
   "execution_count": 24,
   "metadata": {},
   "outputs": [],
   "source": [
    "ts_model = kmodel.Model(inputs=input_layer, outputs=output_layer)\n",
    "ts_model.compile(loss='mean_squared_error', optimizer='adam')"
   ]
  },
  {
   "cell_type": "code",
   "execution_count": 27,
   "metadata": {},
   "outputs": [
    {
     "name": "stdout",
     "output_type": "stream",
     "text": [
      "Train on 35057 samples, validate on 8753 samples\n",
      "Epoch 1/20\n",
      "35057/35057 [==============================] - 20s 559us/step - loss: 2.9781e-04 - val_loss: 1.4648e-04\n",
      "Epoch 2/20\n",
      "35057/35057 [==============================] - 19s 547us/step - loss: 2.9667e-04 - val_loss: 1.5037e-04\n",
      "Epoch 3/20\n",
      "35057/35057 [==============================] - 19s 543us/step - loss: 2.9815e-04 - val_loss: 1.3846e-04\n",
      "Epoch 4/20\n",
      "35057/35057 [==============================] - 19s 537us/step - loss: 2.9427e-04 - val_loss: 1.3213e-04\n",
      "Epoch 5/20\n",
      "35057/35057 [==============================] - 19s 551us/step - loss: 2.9092e-04 - val_loss: 1.3224e-04\n",
      "Epoch 6/20\n",
      "35057/35057 [==============================] - 19s 544us/step - loss: 2.9465e-04 - val_loss: 1.4381e-04\n",
      "Epoch 7/20\n",
      "35057/35057 [==============================] - 19s 547us/step - loss: 2.9828e-04 - val_loss: 1.5716e-04\n",
      "Epoch 8/20\n",
      "35057/35057 [==============================] - 19s 538us/step - loss: 2.9040e-04 - val_loss: 1.4012e-04\n",
      "Epoch 9/20\n",
      "35057/35057 [==============================] - 21s 590us/step - loss: 2.9917e-04 - val_loss: 1.3467e-04\n",
      "Epoch 10/20\n",
      "35057/35057 [==============================] - 20s 574us/step - loss: 2.9580e-04 - val_loss: 1.3149e-04\n",
      "Epoch 11/20\n",
      "35057/35057 [==============================] - 20s 557us/step - loss: 2.9342e-04 - val_loss: 1.3638e-04\n",
      "Epoch 12/20\n",
      "35057/35057 [==============================] - 19s 542us/step - loss: 2.9405e-04 - val_loss: 1.4567e-04\n",
      "Epoch 13/20\n",
      "35057/35057 [==============================] - 19s 546us/step - loss: 2.9081e-04 - val_loss: 1.3717e-04\n",
      "Epoch 14/20\n",
      "35057/35057 [==============================] - 19s 542us/step - loss: 2.8727e-04 - val_loss: 1.3260e-04\n",
      "Epoch 15/20\n",
      "35057/35057 [==============================] - 19s 547us/step - loss: 2.8820e-04 - val_loss: 1.3342e-04\n",
      "Epoch 16/20\n",
      "35057/35057 [==============================] - 19s 543us/step - loss: 2.9481e-04 - val_loss: 1.4640e-04\n",
      "Epoch 17/20\n",
      "35057/35057 [==============================] - 19s 552us/step - loss: 2.8964e-04 - val_loss: 1.4670e-04\n",
      "Epoch 18/20\n",
      "35057/35057 [==============================] - 19s 556us/step - loss: 2.9763e-04 - val_loss: 1.9600e-04\n",
      "Epoch 19/20\n",
      "35057/35057 [==============================] - 19s 553us/step - loss: 2.8748e-04 - val_loss: 1.3037e-04\n",
      "Epoch 20/20\n",
      "35057/35057 [==============================] - 21s 599us/step - loss: 2.8895e-04 - val_loss: 1.4272e-04\n"
     ]
    },
    {
     "data": {
      "text/plain": [
       "<keras.callbacks.History at 0x132fc7c88>"
      ]
     },
     "execution_count": 27,
     "metadata": {},
     "output_type": "execute_result"
    }
   ],
   "source": [
    "save_weights_at = os.path.join('keras_models', 'PRSA_data_Air_Pressure_LSTM_weights.{epoch:02d}-{val_loss:.4f}.hdf5')\n",
    "save_best = kcallbacks.ModelCheckpoint(save_weights_at, monitor='val_loss', verbose=0, \n",
    "                            save_best_only=True, save_weights_only=False, mode='min', period=1)\n",
    "ts_model.fit(x=X_train, y=y_train, batch_size=16, epochs=20, verbose=1, \n",
    "             callbacks=[save_best], validation_data=(X_val, y_val), shuffle=True)"
   ]
  },
  {
   "cell_type": "code",
   "execution_count": 28,
   "metadata": {},
   "outputs": [],
   "source": [
    "best_model = kmodel.load_model(os.path.join('keras_models','PRSA_data_Air_Pressure_LSTM_weights.10-0.0001.hdf5'))\n",
    "preds = best_model.predict(X_val)\n",
    "pred_PRES = scaler.inverse_transform(preds)\n",
    "pred_PRES = np.squeeze(pred_PRES)"
   ]
  },
  {
   "cell_type": "code",
   "execution_count": 30,
   "metadata": {},
   "outputs": [
    {
     "data": {
      "text/plain": [
       "Text(0.5, 0, 'Index')"
      ]
     },
     "execution_count": 30,
     "metadata": {},
     "output_type": "execute_result"
    },
    {
     "data": {
      "image/png": "[encoded data removed]",
      "text/plain": [
       "<Figure size 396x396 with 1 Axes>"
      ]
     },
     "metadata": {
      "needs_background": "light"
     },
     "output_type": "display_data"
    }
   ],
   "source": [
    "plt.figure(figsize=(5.5, 5.5))\n",
    "plt.plot(range(50), df_val['PRES'].iloc[7:57], linestyle='-', marker='*', color='r')\n",
    "plt.plot(range(50), pred_PRES[:50], linestyle='-', marker='.', color='b')\n",
    "plt.legend(['Actual','Predicted'], loc=2)\n",
    "plt.title('Long Short Term Memory (LSTM)')\n",
    "plt.ylabel('Air Pressure')\n",
    "plt.xlabel('Index')"
   ]
  },
  {
   "cell_type": "code",
   "execution_count": 32,
   "metadata": {},
   "outputs": [],
   "source": [
    "input_layer = klayers.Input(shape=(7,1), dtype='float32')\n",
    "gru_layer1 = klayers.GRU(64, input_shape=(7,1), return_sequences=True)(input_layer)\n",
    "gru_layer2 = klayers.GRU(32, input_shape=(7,64), return_sequences=False)(gru_layer1)\n",
    "dropout_layer = klayers.Dropout(0.2)(gru_layer2)\n",
    "output_layer = klayers.Dense(1, activation='linear')(dropout_layer)"
   ]
  },
  {
   "cell_type": "code",
   "execution_count": 33,
   "metadata": {},
   "outputs": [
    {
     "name": "stdout",
     "output_type": "stream",
     "text": [
      "_________________________________________________________________\n",
      "Layer (type)                 Output Shape              Param #   \n",
      "=================================================================\n",
      "input_5 (InputLayer)         (None, 7, 1)              0         \n",
      "_________________________________________________________________\n",
      "gru_3 (GRU)                  (None, 7, 64)             12672     \n",
      "_________________________________________________________________\n",
      "gru_4 (GRU)                  (None, 32)                9312      \n",
      "_________________________________________________________________\n",
      "dropout_3 (Dropout)          (None, 32)                0         \n",
      "_________________________________________________________________\n",
      "dense_3 (Dense)              (None, 1)                 33        \n",
      "=================================================================\n",
      "Total params: 22,017\n",
      "Trainable params: 22,017\n",
      "Non-trainable params: 0\n",
      "_________________________________________________________________\n"
     ]
    }
   ],
   "source": [
    "ts_model = kmodel.Model(inputs=input_layer, outputs=output_layer)\n",
    "ts_model.compile(loss='mse', optimizer='adam')\n",
    "ts_model.summary()"
   ]
  },
  {
   "cell_type": "code",
   "execution_count": 34,
   "metadata": {},
   "outputs": [
    {
     "name": "stdout",
     "output_type": "stream",
     "text": [
      "Train on 35057 samples, validate on 8753 samples\n",
      "Epoch 1/20\n",
      "35057/35057 [==============================] - 31s 884us/step - loss: 0.0023 - val_loss: 2.3995e-04\n",
      "Epoch 2/20\n",
      "35057/35057 [==============================] - 27s 784us/step - loss: 6.8105e-04 - val_loss: 2.2001e-04\n",
      "Epoch 3/20\n",
      "35057/35057 [==============================] - 29s 827us/step - loss: 4.8957e-04 - val_loss: 1.3633e-04\n",
      "Epoch 4/20\n",
      "35057/35057 [==============================] - 26s 751us/step - loss: 4.7885e-04 - val_loss: 2.1575e-04\n",
      "Epoch 5/20\n",
      "35057/35057 [==============================] - 28s 810us/step - loss: 4.6463e-04 - val_loss: 1.6867e-04\n",
      "Epoch 6/20\n",
      "35057/35057 [==============================] - 27s 774us/step - loss: 4.6220e-04 - val_loss: 1.3961e-04\n",
      "Epoch 7/20\n",
      "35057/35057 [==============================] - 28s 791us/step - loss: 4.6674e-04 - val_loss: 1.5794e-04\n",
      "Epoch 8/20\n",
      "35057/35057 [==============================] - 25s 705us/step - loss: 4.6364e-04 - val_loss: 1.7438e-04\n",
      "Epoch 9/20\n",
      "35057/35057 [==============================] - 24s 698us/step - loss: 4.6304e-04 - val_loss: 1.8247e-04\n",
      "Epoch 10/20\n",
      "35057/35057 [==============================] - 25s 723us/step - loss: 4.5310e-04 - val_loss: 1.6141e-04\n",
      "Epoch 11/20\n",
      "35057/35057 [==============================] - 25s 706us/step - loss: 4.5577e-04 - val_loss: 1.5111e-04\n",
      "Epoch 12/20\n",
      "35057/35057 [==============================] - 25s 701us/step - loss: 4.5482e-04 - val_loss: 2.6438e-04\n",
      "Epoch 13/20\n",
      "35057/35057 [==============================] - 25s 701us/step - loss: 4.4818e-04 - val_loss: 2.7735e-04\n",
      "Epoch 14/20\n",
      "35057/35057 [==============================] - 24s 687us/step - loss: 4.5404e-04 - val_loss: 1.4932e-04\n",
      "Epoch 15/20\n",
      "35057/35057 [==============================] - 25s 701us/step - loss: 4.5410e-04 - val_loss: 2.4764e-04\n",
      "Epoch 16/20\n",
      "35057/35057 [==============================] - 25s 707us/step - loss: 4.4761e-04 - val_loss: 1.4461e-04\n",
      "Epoch 17/20\n",
      "35057/35057 [==============================] - 26s 728us/step - loss: 4.4378e-04 - val_loss: 1.5521e-04\n",
      "Epoch 18/20\n",
      "35057/35057 [==============================] - 25s 723us/step - loss: 4.5257e-04 - val_loss: 1.8255e-04\n",
      "Epoch 19/20\n",
      "35057/35057 [==============================] - 26s 733us/step - loss: 4.5107e-04 - val_loss: 1.7502e-04\n",
      "Epoch 20/20\n",
      "35057/35057 [==============================] - 26s 730us/step - loss: 4.4318e-04 - val_loss: 1.4280e-04\n"
     ]
    },
    {
     "data": {
      "text/plain": [
       "<keras.callbacks.History at 0x134445518>"
      ]
     },
     "execution_count": 34,
     "metadata": {},
     "output_type": "execute_result"
    }
   ],
   "source": [
    "save_weights_at = os.path.join('keras_models', 'PRSA_data_Air_Pressure_GRU_weights.{epoch:02d}-{val_loss:.4f}.hdf5')\n",
    "save_best = kcallbacks.ModelCheckpoint(save_weights_at, monitor='val_loss', verbose=0,\n",
    "                            save_best_only=True, save_weights_only=False, mode='min',\n",
    "                            period=1)\n",
    "ts_model.fit(x=X_train, y=y_train, batch_size=16, epochs=20,\n",
    "             verbose=1, callbacks=[save_best], validation_data=(X_val, y_val),\n",
    "             shuffle=True)"
   ]
  },
  {
   "cell_type": "code",
   "execution_count": 35,
   "metadata": {},
   "outputs": [],
   "source": [
    "best_model = kmodel.load_model(os.path.join('keras_models','PRSA_data_Air_Pressure_GRU_weights.03-0.0001.hdf5'))\n",
    "preds = best_model.predict(X_val)\n",
    "pred_PRES = scaler.inverse_transform(preds)\n",
    "pred_PRES = np.squeeze(pred_PRES)"
   ]
  },
  {
   "cell_type": "code",
   "execution_count": 36,
   "metadata": {},
   "outputs": [
    {
     "data": {
      "text/plain": [
       "Text(0.5, 0, 'Index')"
      ]
     },
     "execution_count": 36,
     "metadata": {},
     "output_type": "execute_result"
    },
    {
     "data": {
      "image/png": "[encoded data removed]",
      "text/plain": [
       "<Figure size 396x396 with 1 Axes>"
      ]
     },
     "metadata": {
      "needs_background": "light"
     },
     "output_type": "display_data"
    }
   ],
   "source": [
    "plt.figure(figsize=(5.5, 5.5))\n",
    "plt.plot(range(50), df_val['PRES'].iloc[7:57], linestyle='-', marker='*', color='r')\n",
    "plt.plot(range(50), pred_PRES[:50], linestyle='-', marker='.', color='b')\n",
    "plt.legend(['Actual','Predicted'], loc=2)\n",
    "plt.title('Gated Recurrent Unit (GRU)')\n",
    "plt.ylabel('Air Pressure')\n",
    "plt.xlabel('Index')"
   ]
  },
  {
   "cell_type": "code",
   "execution_count": null,
   "metadata": {},
   "outputs": [],
   "source": []
  }
 ],
 "metadata": {
  "kernelspec": {
   "display_name": "Python 3",
   "language": "python",
   "name": "python3"
  },
  "language_info": {
   "codemirror_mode": {
    "name": "ipython",
    "version": 3
   },
   "file_extension": ".py",
   "mimetype": "text/x-python",
   "name": "python",
   "nbconvert_exporter": "python",
   "pygments_lexer": "ipython3",
   "version": "3.7.2"
  }
 },
 "nbformat": 4,
 "nbformat_minor": 2
}
